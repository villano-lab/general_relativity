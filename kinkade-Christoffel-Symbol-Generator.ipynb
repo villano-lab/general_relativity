{
 "cells": [
  {
   "cell_type": "code",
   "execution_count": 1,
   "id": "1ad15966-655d-43f3-8e71-f74984aa241a",
   "metadata": {},
   "outputs": [],
   "source": [
    "import sympy as sym\n",
    "import numpy as np\n",
    "from IPython.core.interactiveshell import InteractiveShell\n",
    "InteractiveShell.ast_node_interactivity = 'all'"
   ]
  },
  {
   "cell_type": "code",
   "execution_count": 2,
   "id": "6152690d-3ae9-41fd-a4c3-7d6233b5bf53",
   "metadata": {},
   "outputs": [],
   "source": [
    "def Christoffel_Sym (g, x): ### Takes in metric and array-like of sympy symbols\n",
    "    n = g.shape[0]\n",
    "    gamma = sym.MutableDenseNDimArray([0]*n**3, (n,n,n))\n",
    "    for i in range(n):\n",
    "        for j in range(n):\n",
    "            for k in range(n):\n",
    "                gamma[i,j,k] = 1/2 * (g**-1)[i,i] * (sym.diff(g[k,i],x[j])+sym.diff(g[j,i],x[k])-sym.diff(g[j,k],x[i]))\n",
    "    return gamma"
   ]
  },
  {
   "cell_type": "code",
   "execution_count": 3,
   "id": "788e2565-9028-4d3e-a6f8-f47044b5f7cd",
   "metadata": {},
   "outputs": [],
   "source": [
    "t, r, theta, phi = sym.symbols('t, r, theta, phi')\n",
    "rs, c , rq= sym.symbols('r_s, c, rq')"
   ]
  },
  {
   "cell_type": "code",
   "execution_count": 4,
   "id": "b4e2821f-62ad-4dfe-bb12-6d45a646980c",
   "metadata": {},
   "outputs": [],
   "source": [
    "# Euclidean\n",
    "g1 = sym.Matrix([[1,0],\n",
    "                [0,1]])\n",
    "# Polar\n",
    "g2 = sym.Matrix([[1,0],\n",
    "                [0,r**2]])\n",
    "# Spherical\n",
    "g3 = sym.Matrix([[1,0,0],\n",
    "                [0,r**2,0],\n",
    "                [0,0,(r*sym.sin(theta))**2]])\n",
    "# S^2\n",
    "g4 = sym.Matrix([[r**2,0],\n",
    "                [0,(r*sym.sin(theta))**2]])\n",
    "# Schwarzchild\n",
    "g5 = sym.Matrix([[-c**2*(1-rs/r),0,0,0],\n",
    "                 [0,1/(1-rs/r),0,0],\n",
    "                 [0,0,r**2,0],\n",
    "                 [0,0,0,r**2*sym.sin(theta)**2]])\n",
    "# Reissner-Nordstrom\n",
    "g6 = sym.Matrix([[-(1-rs/r+rq**2/r**2),0,0,0],\n",
    "                 [0,1/(1-rs/r+rq**2/r**2),0,0],\n",
    "                 [0,0,r**2,0],\n",
    "                 [0,0,0,r**2*sym.sin(theta)**2]])"
   ]
  },
  {
   "cell_type": "code",
   "execution_count": 5,
   "id": "8c2e2d5a-ef2d-43c6-af51-28daf5617546",
   "metadata": {},
   "outputs": [
    {
     "data": {
      "text/latex": [
       "$\\displaystyle \\left[\\begin{matrix}\\left[\\begin{matrix}0 & 0\\\\0 & - 1.0 r\\end{matrix}\\right] & \\left[\\begin{matrix}0 & \\frac{1.0}{r}\\\\\\frac{1.0}{r} & 0\\end{matrix}\\right]\\end{matrix}\\right]$"
      ],
      "text/plain": [
       "[[[0, 0], [0, -1.0*r]], [[0, 1.0/r], [1.0/r, 0]]]"
      ]
     },
     "execution_count": 5,
     "metadata": {},
     "output_type": "execute_result"
    }
   ],
   "source": [
    "x = [r,theta]\n",
    "Christoffel_Sym(g2,x)"
   ]
  },
  {
   "cell_type": "code",
   "execution_count": 6,
   "id": "9453d1e9-f082-4eab-aa80-1e03e0da8d01",
   "metadata": {},
   "outputs": [
    {
     "data": {
      "text/latex": [
       "$\\displaystyle \\left[\\begin{matrix}\\left[\\begin{matrix}0 & 0 & 0\\\\0 & - 1.0 r & 0\\\\0 & 0 & - 1.0 r \\sin^{2}{\\left(\\theta \\right)}\\end{matrix}\\right] & \\left[\\begin{matrix}0 & \\frac{1.0}{r} & 0\\\\\\frac{1.0}{r} & 0 & 0\\\\0 & 0 & - 1.0 \\sin{\\left(\\theta \\right)} \\cos{\\left(\\theta \\right)}\\end{matrix}\\right] & \\left[\\begin{matrix}0 & 0 & \\frac{1.0}{r}\\\\0 & 0 & \\frac{1.0 \\cos{\\left(\\theta \\right)}}{\\sin{\\left(\\theta \\right)}}\\\\\\frac{1.0}{r} & \\frac{1.0 \\cos{\\left(\\theta \\right)}}{\\sin{\\left(\\theta \\right)}} & 0\\end{matrix}\\right]\\end{matrix}\\right]$"
      ],
      "text/plain": [
       "[[[0, 0, 0], [0, -1.0*r, 0], [0, 0, -1.0*r*sin(theta)**2]], [[0, 1.0/r, 0], [1.0/r, 0, 0], [0, 0, -1.0*sin(theta)*cos(theta)]], [[0, 0, 1.0/r], [0, 0, 1.0*cos(theta)/sin(theta)], [1.0/r, 1.0*cos(theta)/sin(theta), 0]]]"
      ]
     },
     "execution_count": 6,
     "metadata": {},
     "output_type": "execute_result"
    }
   ],
   "source": [
    "x = [r,theta,phi]\n",
    "Christoffel_Sym(g3,x)"
   ]
  },
  {
   "cell_type": "code",
   "execution_count": 7,
   "id": "048281b7-96f6-477f-8616-b39c931c484c",
   "metadata": {},
   "outputs": [
    {
     "data": {
      "text/latex": [
       "$\\displaystyle \\left[\\begin{matrix}r^{2} & 0\\\\0 & r^{2} \\sin^{2}{\\left(\\theta \\right)}\\end{matrix}\\right]$"
      ],
      "text/plain": [
       "Matrix([\n",
       "[r**2,                  0],\n",
       "[   0, r**2*sin(theta)**2]])"
      ]
     },
     "execution_count": 7,
     "metadata": {},
     "output_type": "execute_result"
    },
    {
     "data": {
      "text/latex": [
       "$\\displaystyle \\left[\\begin{matrix}\\left[\\begin{matrix}0 & 0\\\\0 & - 1.0 \\sin{\\left(\\theta \\right)} \\cos{\\left(\\theta \\right)}\\end{matrix}\\right] & \\left[\\begin{matrix}0 & \\frac{1.0 \\cos{\\left(\\theta \\right)}}{\\sin{\\left(\\theta \\right)}}\\\\\\frac{1.0 \\cos{\\left(\\theta \\right)}}{\\sin{\\left(\\theta \\right)}} & 0\\end{matrix}\\right]\\end{matrix}\\right]$"
      ],
      "text/plain": [
       "[[[0, 0], [0, -1.0*sin(theta)*cos(theta)]], [[0, 1.0*cos(theta)/sin(theta)], [1.0*cos(theta)/sin(theta), 0]]]"
      ]
     },
     "execution_count": 7,
     "metadata": {},
     "output_type": "execute_result"
    }
   ],
   "source": [
    "x = [theta,phi]\n",
    "g4\n",
    "Christoffel_Sym(g4,x)"
   ]
  },
  {
   "cell_type": "code",
   "execution_count": 8,
   "id": "003e1d68-daa2-420c-ade5-74aa80d5f70c",
   "metadata": {},
   "outputs": [],
   "source": [
    "def reimann_tensor(gamma,x):\n",
    "    n = gamma.shape[0]\n",
    "    R = sym.MutableDenseNDimArray([0]*n**4, (n,n,n,n))\n",
    "\n",
    "    for i in range(n):\n",
    "        for j in range(n):\n",
    "            for k in range(n):\n",
    "                for l in range(n):\n",
    "                    R[i,j,k,l] = -sym.diff(gamma[i,j,k],x[l])+sym.diff(gamma[i,j,l],x[k])\n",
    "                    for m in range(n):\n",
    "\n",
    "                        R[i,j,k,l] += gamma[i,m,k]*gamma[m,j,l] - gamma[i,m,l]*gamma[m,j,k]\n",
    "    return sym.simplify(R)"
   ]
  },
  {
   "cell_type": "code",
   "execution_count": 9,
   "id": "458946ae-268c-4f6b-a918-86ea2d8d5c32",
   "metadata": {},
   "outputs": [],
   "source": [
    "def ricci_tensor (R):\n",
    "    n = R.shape[0]\n",
    "    ricci_t = sym.MutableDenseNDimArray([0]*n**2, (n,n))\n",
    "    \n",
    "    for i in range(n):\n",
    "        for j in range(n):\n",
    "            for k in range(n):\n",
    "                ricci_t[i,j] += R[k,i,j,k]\n",
    "    return sym.simplify(ricci_t)"
   ]
  },
  {
   "cell_type": "code",
   "execution_count": 10,
   "id": "c55770d4-dfe2-4c17-86c2-499a560c25ff",
   "metadata": {},
   "outputs": [],
   "source": [
    "def ricci_scalar(R,g):\n",
    "    n = R.shape[0]\n",
    "    ricci_s = 0\n",
    "    for i in range(n):\n",
    "        for j in range(n):\n",
    "            ricci_s += (g**-1)[i,j]*R[j,i]\n",
    "    return sym.simplify(ricci_s)"
   ]
  },
  {
   "cell_type": "code",
   "execution_count": 11,
   "id": "2fcec28c-ac4c-412f-acc1-ba572650f95c",
   "metadata": {},
   "outputs": [
    {
     "data": {
      "text/plain": [
       "[t, r, theta, phi]"
      ]
     },
     "execution_count": 11,
     "metadata": {},
     "output_type": "execute_result"
    },
    {
     "data": {
      "text/latex": [
       "$\\displaystyle \\left[\\begin{matrix}\\left[\\begin{matrix}0 & \\frac{0.5 r_{s}}{r^{2} \\left(1 - \\frac{r_{s}}{r}\\right)} & 0 & 0\\\\\\frac{0.5 r_{s}}{r^{2} \\left(1 - \\frac{r_{s}}{r}\\right)} & 0 & 0 & 0\\\\0 & 0 & 0 & 0\\\\0 & 0 & 0 & 0\\end{matrix}\\right] & \\left[\\begin{matrix}\\frac{c^{2} r_{s} \\left(0.5 - \\frac{0.5 r_{s}}{r}\\right)}{r^{2}} & 0 & 0 & 0\\\\0 & - \\frac{r_{s} \\left(0.5 - \\frac{0.5 r_{s}}{r}\\right)}{r^{2} \\left(1 - \\frac{r_{s}}{r}\\right)^{2}} & 0 & 0\\\\0 & 0 & - 2 r \\left(0.5 - \\frac{0.5 r_{s}}{r}\\right) & 0\\\\0 & 0 & 0 & - 2 r \\left(0.5 - \\frac{0.5 r_{s}}{r}\\right) \\sin^{2}{\\left(\\theta \\right)}\\end{matrix}\\right] & \\left[\\begin{matrix}0 & 0 & 0 & 0\\\\0 & 0 & \\frac{1.0}{r} & 0\\\\0 & \\frac{1.0}{r} & 0 & 0\\\\0 & 0 & 0 & - 1.0 \\sin{\\left(\\theta \\right)} \\cos{\\left(\\theta \\right)}\\end{matrix}\\right] & \\left[\\begin{matrix}0 & 0 & 0 & 0\\\\0 & 0 & 0 & \\frac{1.0}{r}\\\\0 & 0 & 0 & \\frac{1.0 \\cos{\\left(\\theta \\right)}}{\\sin{\\left(\\theta \\right)}}\\\\0 & \\frac{1.0}{r} & \\frac{1.0 \\cos{\\left(\\theta \\right)}}{\\sin{\\left(\\theta \\right)}} & 0\\end{matrix}\\right]\\end{matrix}\\right]$"
      ],
      "text/plain": [
       "[[[0, 0.5*r_s/(r**2*(1 - r_s/r)), 0, 0], [0.5*r_s/(r**2*(1 - r_s/r)), 0, 0, 0], [0, 0, 0, 0], [0, 0, 0, 0]], [[c**2*r_s*(0.5 - 0.5*r_s/r)/r**2, 0, 0, 0], [0, -r_s*(0.5 - 0.5*r_s/r)/(r**2*(1 - r_s/r)**2), 0, 0], [0, 0, -2*r*(0.5 - 0.5*r_s/r), 0], [0, 0, 0, -2*r*(0.5 - 0.5*r_s/r)*sin(theta)**2]], [[0, 0, 0, 0], [0, 0, 1.0/r, 0], [0, 1.0/r, 0, 0], [0, 0, 0, -1.0*sin(theta)*cos(theta)]], [[0, 0, 0, 0], [0, 0, 0, 1.0/r], [0, 0, 0, 1.0*cos(theta)/sin(theta)], [0, 1.0/r, 1.0*cos(theta)/sin(theta), 0]]]"
      ]
     },
     "execution_count": 11,
     "metadata": {},
     "output_type": "execute_result"
    },
    {
     "data": {
      "text/latex": [
       "$\\displaystyle \\left[\\begin{matrix}\\left[\\begin{matrix}0 & 0 & 0 & 0\\\\0 & 0 & 0 & 0\\\\0 & 0 & 0 & 0\\\\0 & 0 & 0 & 0\\end{matrix}\\right] & \\left[\\begin{matrix}0 & \\frac{1.0 r_{s}}{r^{2} \\left(r - r_{s}\\right)} & 0 & 0\\\\- \\frac{1.0 r_{s}}{r^{2} \\left(r - r_{s}\\right)} & 0 & 0 & 0\\\\0 & 0 & 0 & 0\\\\0 & 0 & 0 & 0\\end{matrix}\\right] & \\left[\\begin{matrix}0 & 0 & - \\frac{0.5 r_{s}}{r} & 0\\\\0 & 0 & 0 & 0\\\\\\frac{0.5 r_{s}}{r} & 0 & 0 & 0\\\\0 & 0 & 0 & 0\\end{matrix}\\right] & \\left[\\begin{matrix}0 & 0 & 0 & - \\frac{0.5 r_{s} \\sin^{2}{\\left(\\theta \\right)}}{r}\\\\0 & 0 & 0 & 0\\\\0 & 0 & 0 & 0\\\\\\frac{0.5 r_{s} \\sin^{2}{\\left(\\theta \\right)}}{r} & 0 & 0 & 0\\end{matrix}\\right]\\\\\\left[\\begin{matrix}0 & \\frac{1.0 c^{2} r_{s} \\left(r - r_{s}\\right)}{r^{4}} & 0 & 0\\\\\\frac{1.0 c^{2} r_{s} \\left(- r + r_{s}\\right)}{r^{4}} & 0 & 0 & 0\\\\0 & 0 & 0 & 0\\\\0 & 0 & 0 & 0\\end{matrix}\\right] & \\left[\\begin{matrix}0 & 0 & 0 & 0\\\\0 & 0 & 0 & 0\\\\0 & 0 & 0 & 0\\\\0 & 0 & 0 & 0\\end{matrix}\\right] & \\left[\\begin{matrix}0 & 0 & 0 & 0\\\\0 & 0 & - \\frac{0.5 r_{s}}{r} & 0\\\\0 & \\frac{0.5 r_{s}}{r} & 0 & 0\\\\0 & 0 & 0 & 0\\end{matrix}\\right] & \\left[\\begin{matrix}0 & 0 & 0 & 0\\\\0 & 0 & 0 & - \\frac{0.5 r_{s} \\sin^{2}{\\left(\\theta \\right)}}{r}\\\\0 & 0 & 0 & 0\\\\0 & \\frac{0.5 r_{s} \\sin^{2}{\\left(\\theta \\right)}}{r} & 0 & 0\\end{matrix}\\right]\\\\\\left[\\begin{matrix}0 & 0 & \\frac{0.5 c^{2} r_{s} \\left(- r + r_{s}\\right)}{r^{4}} & 0\\\\0 & 0 & 0 & 0\\\\\\frac{0.5 c^{2} r_{s} \\left(r - r_{s}\\right)}{r^{4}} & 0 & 0 & 0\\\\0 & 0 & 0 & 0\\end{matrix}\\right] & \\left[\\begin{matrix}0 & 0 & 0 & 0\\\\0 & 0 & \\frac{0.5 r_{s}}{r^{2} \\left(r - r_{s}\\right)} & 0\\\\0 & - \\frac{0.5 r_{s}}{r^{2} \\left(r - r_{s}\\right)} & 0 & 0\\\\0 & 0 & 0 & 0\\end{matrix}\\right] & \\left[\\begin{matrix}0 & 0 & 0 & 0\\\\0 & 0 & 0 & 0\\\\0 & 0 & 0 & 0\\\\0 & 0 & 0 & 0\\end{matrix}\\right] & \\left[\\begin{matrix}0 & 0 & 0 & 0\\\\0 & 0 & 0 & 0\\\\0 & 0 & 0 & \\frac{1.0 r_{s} \\sin^{2}{\\left(\\theta \\right)}}{r}\\\\0 & 0 & - \\frac{1.0 r_{s} \\sin^{2}{\\left(\\theta \\right)}}{r} & 0\\end{matrix}\\right]\\\\\\left[\\begin{matrix}0 & 0 & 0 & \\frac{0.5 c^{2} r_{s} \\left(- r + r_{s}\\right)}{r^{4}}\\\\0 & 0 & 0 & 0\\\\0 & 0 & 0 & 0\\\\\\frac{0.5 c^{2} r_{s} \\left(r - r_{s}\\right)}{r^{4}} & 0 & 0 & 0\\end{matrix}\\right] & \\left[\\begin{matrix}0 & 0 & 0 & 0\\\\0 & 0 & 0 & \\frac{0.5 r_{s}}{r^{2} \\left(r - r_{s}\\right)}\\\\0 & 0 & 0 & 0\\\\0 & - \\frac{0.5 r_{s}}{r^{2} \\left(r - r_{s}\\right)} & 0 & 0\\end{matrix}\\right] & \\left[\\begin{matrix}0 & 0 & 0 & 0\\\\0 & 0 & 0 & 0\\\\0 & 0 & 0 & - \\frac{1.0 r_{s}}{r}\\\\0 & 0 & \\frac{1.0 r_{s}}{r} & 0\\end{matrix}\\right] & \\left[\\begin{matrix}0 & 0 & 0 & 0\\\\0 & 0 & 0 & 0\\\\0 & 0 & 0 & 0\\\\0 & 0 & 0 & 0\\end{matrix}\\right]\\end{matrix}\\right]$"
      ],
      "text/plain": [
       "[[[[0, 0, 0, 0], [0, 0, 0, 0], [0, 0, 0, 0], [0, 0, 0, 0]], [[0, 1.0*r_s/(r**2*(r - r_s)), 0, 0], [-1.0*r_s/(r**2*(r - r_s)), 0, 0, 0], [0, 0, 0, 0], [0, 0, 0, 0]], [[0, 0, -0.5*r_s/r, 0], [0, 0, 0, 0], [0.5*r_s/r, 0, 0, 0], [0, 0, 0, 0]], [[0, 0, 0, -0.5*r_s*sin(theta)**2/r], [0, 0, 0, 0], [0, 0, 0, 0], [0.5*r_s*sin(theta)**2/r, 0, 0, 0]]], [[[0, 1.0*c**2*r_s*(r - r_s)/r**4, 0, 0], [1.0*c**2*r_s*(-r + r_s)/r**4, 0, 0, 0], [0, 0, 0, 0], [0, 0, 0, 0]], [[0, 0, 0, 0], [0, 0, 0, 0], [0, 0, 0, 0], [0, 0, 0, 0]], [[0, 0, 0, 0], [0, 0, -0.5*r_s/r, 0], [0, 0.5*r_s/r, 0, 0], [0, 0, 0, 0]], [[0, 0, 0, 0], [0, 0, 0, -0.5*r_s*sin(theta)**2/r], [0, 0, 0, 0], [0, 0.5*r_s*sin(theta)**2/r, 0, 0]]], [[[0, 0, 0.5*c**2*r_s*(-r + r_s)/r**4, 0], [0, 0, 0, 0], [0.5*c**2*r_s*(r - r_s)/r**4, 0, 0, 0], [0, 0, 0, 0]], [[0, 0, 0, 0], [0, 0, 0.5*r_s/(r**2*(r - r_s)), 0], [0, -0.5*r_s/(r**2*(r - r_s)), 0, 0], [0, 0, 0, 0]], [[0, 0, 0, 0], [0, 0, 0, 0], [0, 0, 0, 0], [0, 0, 0, 0]], [[0, 0, 0, 0], [0, 0, 0, 0], [0, 0, 0, 1.0*r_s*sin(theta)**2/r], [0, 0, -1.0*r_s*sin(theta)**2/r, 0]]], [[[0, 0, 0, 0.5*c**2*r_s*(-r + r_s)/r**4], [0, 0, 0, 0], [0, 0, 0, 0], [0.5*c**2*r_s*(r - r_s)/r**4, 0, 0, 0]], [[0, 0, 0, 0], [0, 0, 0, 0.5*r_s/(r**2*(r - r_s))], [0, 0, 0, 0], [0, -0.5*r_s/(r**2*(r - r_s)), 0, 0]], [[0, 0, 0, 0], [0, 0, 0, 0], [0, 0, 0, -1.0*r_s/r], [0, 0, 1.0*r_s/r, 0]], [[0, 0, 0, 0], [0, 0, 0, 0], [0, 0, 0, 0], [0, 0, 0, 0]]]]"
      ]
     },
     "execution_count": 11,
     "metadata": {},
     "output_type": "execute_result"
    }
   ],
   "source": [
    "x = [t,r,theta,phi]\n",
    "gamma = Christoffel_Sym(g5,x)\n",
    "R = reimann_tensor(gamma,x)\n",
    "x\n",
    "gamma\n",
    "R"
   ]
  },
  {
   "cell_type": "code",
   "execution_count": 12,
   "id": "64b56d19-e2a0-490b-889d-ff1400e30633",
   "metadata": {},
   "outputs": [
    {
     "data": {
      "text/latex": [
       "$\\displaystyle \\left[\\begin{matrix}0 & 0 & 0 & 0\\\\0 & 0 & 0 & 0\\\\0 & 0 & 0 & 0\\\\0 & 0 & 0 & 0\\end{matrix}\\right]$"
      ],
      "text/plain": [
       "[[0, 0, 0, 0], [0, 0, 0, 0], [0, 0, 0, 0], [0, 0, 0, 0]]"
      ]
     },
     "execution_count": 12,
     "metadata": {},
     "output_type": "execute_result"
    }
   ],
   "source": [
    "ricci_t = ricci_tensor(R)\n",
    "ricci_t"
   ]
  },
  {
   "cell_type": "code",
   "execution_count": 13,
   "id": "41717737-35c4-4802-823a-8083b50e6ad4",
   "metadata": {},
   "outputs": [
    {
     "data": {
      "text/latex": [
       "$\\displaystyle 0$"
      ],
      "text/plain": [
       "0"
      ]
     },
     "execution_count": 13,
     "metadata": {},
     "output_type": "execute_result"
    }
   ],
   "source": [
    "ricci_s = ricci_scalar(ricci_t,g5)\n",
    "ricci_s"
   ]
  },
  {
   "cell_type": "code",
   "execution_count": 14,
   "id": "fa1db940-6843-45b5-b6ad-5217cb4c96ef",
   "metadata": {},
   "outputs": [
    {
     "data": {
      "text/plain": [
       "[t, r, theta, phi]"
      ]
     },
     "execution_count": 14,
     "metadata": {},
     "output_type": "execute_result"
    },
    {
     "data": {
      "text/latex": [
       "$\\displaystyle \\left[\\begin{matrix}\\left[\\begin{matrix}0 & \\frac{0.5 \\left(- \\frac{r_{s}}{r^{2}} + \\frac{2 rq^{2}}{r^{3}}\\right)}{-1 + \\frac{r_{s}}{r} - \\frac{rq^{2}}{r^{2}}} & 0 & 0\\\\\\frac{0.5 \\left(- \\frac{r_{s}}{r^{2}} + \\frac{2 rq^{2}}{r^{3}}\\right)}{-1 + \\frac{r_{s}}{r} - \\frac{rq^{2}}{r^{2}}} & 0 & 0 & 0\\\\0 & 0 & 0 & 0\\\\0 & 0 & 0 & 0\\end{matrix}\\right] & \\left[\\begin{matrix}\\left(\\frac{r_{s}}{r^{2}} - \\frac{2 rq^{2}}{r^{3}}\\right) \\left(0.5 - \\frac{0.5 r_{s}}{r} + \\frac{0.5 rq^{2}}{r^{2}}\\right) & 0 & 0 & 0\\\\0 & \\frac{\\left(- \\frac{r_{s}}{r^{2}} + \\frac{2 rq^{2}}{r^{3}}\\right) \\left(0.5 - \\frac{0.5 r_{s}}{r} + \\frac{0.5 rq^{2}}{r^{2}}\\right)}{\\left(1 - \\frac{r_{s}}{r} + \\frac{rq^{2}}{r^{2}}\\right)^{2}} & 0 & 0\\\\0 & 0 & - 2 r \\left(0.5 - \\frac{0.5 r_{s}}{r} + \\frac{0.5 rq^{2}}{r^{2}}\\right) & 0\\\\0 & 0 & 0 & - 2 r \\left(0.5 - \\frac{0.5 r_{s}}{r} + \\frac{0.5 rq^{2}}{r^{2}}\\right) \\sin^{2}{\\left(\\theta \\right)}\\end{matrix}\\right] & \\left[\\begin{matrix}0 & 0 & 0 & 0\\\\0 & 0 & \\frac{1.0}{r} & 0\\\\0 & \\frac{1.0}{r} & 0 & 0\\\\0 & 0 & 0 & - 1.0 \\sin{\\left(\\theta \\right)} \\cos{\\left(\\theta \\right)}\\end{matrix}\\right] & \\left[\\begin{matrix}0 & 0 & 0 & 0\\\\0 & 0 & 0 & \\frac{1.0}{r}\\\\0 & 0 & 0 & \\frac{1.0 \\cos{\\left(\\theta \\right)}}{\\sin{\\left(\\theta \\right)}}\\\\0 & \\frac{1.0}{r} & \\frac{1.0 \\cos{\\left(\\theta \\right)}}{\\sin{\\left(\\theta \\right)}} & 0\\end{matrix}\\right]\\end{matrix}\\right]$"
      ],
      "text/plain": [
       "[[[0, 0.5*(-r_s/r**2 + 2*rq**2/r**3)/(-1 + r_s/r - rq**2/r**2), 0, 0], [0.5*(-r_s/r**2 + 2*rq**2/r**3)/(-1 + r_s/r - rq**2/r**2), 0, 0, 0], [0, 0, 0, 0], [0, 0, 0, 0]], [[(r_s/r**2 - 2*rq**2/r**3)*(0.5 - 0.5*r_s/r + 0.5*rq**2/r**2), 0, 0, 0], [0, (-r_s/r**2 + 2*rq**2/r**3)*(0.5 - 0.5*r_s/r + 0.5*rq**2/r**2)/(1 - r_s/r + rq**2/r**2)**2, 0, 0], [0, 0, -2*r*(0.5 - 0.5*r_s/r + 0.5*rq**2/r**2), 0], [0, 0, 0, -2*r*(0.5 - 0.5*r_s/r + 0.5*rq**2/r**2)*sin(theta)**2]], [[0, 0, 0, 0], [0, 0, 1.0/r, 0], [0, 1.0/r, 0, 0], [0, 0, 0, -1.0*sin(theta)*cos(theta)]], [[0, 0, 0, 0], [0, 0, 0, 1.0/r], [0, 0, 0, 1.0*cos(theta)/sin(theta)], [0, 1.0/r, 1.0*cos(theta)/sin(theta), 0]]]"
      ]
     },
     "execution_count": 14,
     "metadata": {},
     "output_type": "execute_result"
    },
    {
     "data": {
      "text/latex": [
       "$\\displaystyle \\left[\\begin{matrix}\\left[\\begin{matrix}0 & 0 & 0 & 0\\\\0 & 0 & 0 & 0\\\\0 & 0 & 0 & 0\\\\0 & 0 & 0 & 0\\end{matrix}\\right] & \\left[\\begin{matrix}0 & \\frac{1.0 \\left(1.0 r r_{s} - 3.0 rq^{2}\\right)}{r^{2} \\left(r^{2} - r r_{s} + rq^{2}\\right)} & 0 & 0\\\\\\frac{- 1.0 r r_{s} + 3.0 rq^{2}}{r^{2} \\left(r^{2} - r r_{s} + rq^{2}\\right)} & 0 & 0 & 0\\\\0 & 0 & 0 & 0\\\\0 & 0 & 0 & 0\\end{matrix}\\right] & \\left[\\begin{matrix}0 & 0 & \\frac{1.0 \\left(- 0.5 r r_{s} + 1.0 rq^{2}\\right)}{r^{2}} & 0\\\\0 & 0 & 0 & 0\\\\\\frac{0.5 \\left(r r_{s} - 2 rq^{2}\\right)}{r^{2}} & 0 & 0 & 0\\\\0 & 0 & 0 & 0\\end{matrix}\\right] & \\left[\\begin{matrix}0 & 0 & 0 & \\frac{\\left(- 0.5 r r_{s} + 1.0 rq^{2}\\right) \\sin^{2}{\\left(\\theta \\right)}}{r^{2}}\\\\0 & 0 & 0 & 0\\\\0 & 0 & 0 & 0\\\\\\frac{0.5 \\left(r r_{s} - 2 rq^{2}\\right) \\sin^{2}{\\left(\\theta \\right)}}{r^{2}} & 0 & 0 & 0\\end{matrix}\\right]\\\\\\left[\\begin{matrix}0 & \\frac{1.0 \\left(1.0 r^{3} r_{s} - 1.0 r^{2} r_{s}^{2} - 3.0 r^{2} rq^{2} + 4.0 r r_{s} rq^{2} - 3.0 rq^{4}\\right)}{r^{6}} & 0 & 0\\\\\\frac{1.0 \\left(- 1.0 r^{3} r_{s} + 1.0 r^{2} r_{s}^{2} + 3.0 r^{2} rq^{2} - 4.0 r r_{s} rq^{2} + 3.0 rq^{4}\\right)}{r^{6}} & 0 & 0 & 0\\\\0 & 0 & 0 & 0\\\\0 & 0 & 0 & 0\\end{matrix}\\right] & \\left[\\begin{matrix}0 & 0 & 0 & 0\\\\0 & 0 & 0 & 0\\\\0 & 0 & 0 & 0\\\\0 & 0 & 0 & 0\\end{matrix}\\right] & \\left[\\begin{matrix}0 & 0 & 0 & 0\\\\0 & 0 & \\frac{- 0.5 r r_{s} + 1.0 rq^{2}}{r^{2}} & 0\\\\0 & \\frac{0.5 r r_{s} - 1.0 rq^{2}}{r^{2}} & 0 & 0\\\\0 & 0 & 0 & 0\\end{matrix}\\right] & \\left[\\begin{matrix}0 & 0 & 0 & 0\\\\0 & 0 & 0 & \\frac{\\left(- 0.5 r r_{s} + 1.0 rq^{2}\\right) \\sin^{2}{\\left(\\theta \\right)}}{r^{2}}\\\\0 & 0 & 0 & 0\\\\0 & \\frac{\\left(0.5 r r_{s} - 1.0 rq^{2}\\right) \\sin^{2}{\\left(\\theta \\right)}}{r^{2}} & 0 & 0\\end{matrix}\\right]\\\\\\left[\\begin{matrix}0 & 0 & - \\frac{0.5 \\left(r r_{s} - 2 rq^{2}\\right) \\left(r^{2} - r r_{s} + rq^{2}\\right)}{r^{6}} & 0\\\\0 & 0 & 0 & 0\\\\\\frac{0.5 \\left(r r_{s} - 2 rq^{2}\\right) \\left(r^{2} - r r_{s} + rq^{2}\\right)}{r^{6}} & 0 & 0 & 0\\\\0 & 0 & 0 & 0\\end{matrix}\\right] & \\left[\\begin{matrix}0 & 0 & 0 & 0\\\\0 & 0 & \\frac{0.5 \\left(r r_{s} - 2 rq^{2}\\right)}{r^{2} \\left(r^{2} - r r_{s} + rq^{2}\\right)} & 0\\\\0 & \\frac{1.0 \\left(- 0.5 r r_{s} + 1.0 rq^{2}\\right)}{r^{2} \\left(r^{2} - r r_{s} + rq^{2}\\right)} & 0 & 0\\\\0 & 0 & 0 & 0\\end{matrix}\\right] & \\left[\\begin{matrix}0 & 0 & 0 & 0\\\\0 & 0 & 0 & 0\\\\0 & 0 & 0 & 0\\\\0 & 0 & 0 & 0\\end{matrix}\\right] & \\left[\\begin{matrix}0 & 0 & 0 & 0\\\\0 & 0 & 0 & 0\\\\0 & 0 & 0 & \\frac{1.0 \\left(r r_{s} - rq^{2}\\right) \\sin^{2}{\\left(\\theta \\right)}}{r^{2}}\\\\0 & 0 & \\frac{1.0 \\left(- r r_{s} + rq^{2}\\right) \\sin^{2}{\\left(\\theta \\right)}}{r^{2}} & 0\\end{matrix}\\right]\\\\\\left[\\begin{matrix}0 & 0 & 0 & - \\frac{0.5 \\left(r r_{s} - 2 rq^{2}\\right) \\left(r^{2} - r r_{s} + rq^{2}\\right)}{r^{6}}\\\\0 & 0 & 0 & 0\\\\0 & 0 & 0 & 0\\\\\\frac{0.5 \\left(r r_{s} - 2 rq^{2}\\right) \\left(r^{2} - r r_{s} + rq^{2}\\right)}{r^{6}} & 0 & 0 & 0\\end{matrix}\\right] & \\left[\\begin{matrix}0 & 0 & 0 & 0\\\\0 & 0 & 0 & \\frac{0.5 \\left(r r_{s} - 2 rq^{2}\\right)}{r^{2} \\left(r^{2} - r r_{s} + rq^{2}\\right)}\\\\0 & 0 & 0 & 0\\\\0 & \\frac{1.0 \\left(- 0.5 r r_{s} + 1.0 rq^{2}\\right)}{r^{2} \\left(r^{2} - r r_{s} + rq^{2}\\right)} & 0 & 0\\end{matrix}\\right] & \\left[\\begin{matrix}0 & 0 & 0 & 0\\\\0 & 0 & 0 & 0\\\\0 & 0 & 0 & \\frac{1.0 \\left(- r r_{s} + rq^{2}\\right)}{r^{2}}\\\\0 & 0 & \\frac{1.0 \\left(r r_{s} - rq^{2}\\right)}{r^{2}} & 0\\end{matrix}\\right] & \\left[\\begin{matrix}0 & 0 & 0 & 0\\\\0 & 0 & 0 & 0\\\\0 & 0 & 0 & 0\\\\0 & 0 & 0 & 0\\end{matrix}\\right]\\end{matrix}\\right]$"
      ],
      "text/plain": [
       "[[[[0, 0, 0, 0], [0, 0, 0, 0], [0, 0, 0, 0], [0, 0, 0, 0]], [[0, 1.0*(1.0*r*r_s - 3.0*rq**2)/(r**2*(r**2 - r*r_s + rq**2)), 0, 0], [(-1.0*r*r_s + 3.0*rq**2)/(r**2*(r**2 - r*r_s + rq**2)), 0, 0, 0], [0, 0, 0, 0], [0, 0, 0, 0]], [[0, 0, 1.0*(-0.5*r*r_s + 1.0*rq**2)/r**2, 0], [0, 0, 0, 0], [0.5*(r*r_s - 2*rq**2)/r**2, 0, 0, 0], [0, 0, 0, 0]], [[0, 0, 0, (-0.5*r*r_s + 1.0*rq**2)*sin(theta)**2/r**2], [0, 0, 0, 0], [0, 0, 0, 0], [0.5*(r*r_s - 2*rq**2)*sin(theta)**2/r**2, 0, 0, 0]]], [[[0, 1.0*(1.0*r**3*r_s - 1.0*r**2*r_s**2 - 3.0*r**2*rq**2 + 4.0*r*r_s*rq**2 - 3.0*rq**4)/r**6, 0, 0], [1.0*(-1.0*r**3*r_s + 1.0*r**2*r_s**2 + 3.0*r**2*rq**2 - 4.0*r*r_s*rq**2 + 3.0*rq**4)/r**6, 0, 0, 0], [0, 0, 0, 0], [0, 0, 0, 0]], [[0, 0, 0, 0], [0, 0, 0, 0], [0, 0, 0, 0], [0, 0, 0, 0]], [[0, 0, 0, 0], [0, 0, (-0.5*r*r_s + 1.0*rq**2)/r**2, 0], [0, (0.5*r*r_s - 1.0*rq**2)/r**2, 0, 0], [0, 0, 0, 0]], [[0, 0, 0, 0], [0, 0, 0, (-0.5*r*r_s + 1.0*rq**2)*sin(theta)**2/r**2], [0, 0, 0, 0], [0, (0.5*r*r_s - 1.0*rq**2)*sin(theta)**2/r**2, 0, 0]]], [[[0, 0, -0.5*(r*r_s - 2*rq**2)*(r**2 - r*r_s + rq**2)/r**6, 0], [0, 0, 0, 0], [0.5*(r*r_s - 2*rq**2)*(r**2 - r*r_s + rq**2)/r**6, 0, 0, 0], [0, 0, 0, 0]], [[0, 0, 0, 0], [0, 0, 0.5*(r*r_s - 2*rq**2)/(r**2*(r**2 - r*r_s + rq**2)), 0], [0, 1.0*(-0.5*r*r_s + 1.0*rq**2)/(r**2*(r**2 - r*r_s + rq**2)), 0, 0], [0, 0, 0, 0]], [[0, 0, 0, 0], [0, 0, 0, 0], [0, 0, 0, 0], [0, 0, 0, 0]], [[0, 0, 0, 0], [0, 0, 0, 0], [0, 0, 0, 1.0*(r*r_s - rq**2)*sin(theta)**2/r**2], [0, 0, 1.0*(-r*r_s + rq**2)*sin(theta)**2/r**2, 0]]], [[[0, 0, 0, -0.5*(r*r_s - 2*rq**2)*(r**2 - r*r_s + rq**2)/r**6], [0, 0, 0, 0], [0, 0, 0, 0], [0.5*(r*r_s - 2*rq**2)*(r**2 - r*r_s + rq**2)/r**6, 0, 0, 0]], [[0, 0, 0, 0], [0, 0, 0, 0.5*(r*r_s - 2*rq**2)/(r**2*(r**2 - r*r_s + rq**2))], [0, 0, 0, 0], [0, 1.0*(-0.5*r*r_s + 1.0*rq**2)/(r**2*(r**2 - r*r_s + rq**2)), 0, 0]], [[0, 0, 0, 0], [0, 0, 0, 0], [0, 0, 0, 1.0*(-r*r_s + rq**2)/r**2], [0, 0, 1.0*(r*r_s - rq**2)/r**2, 0]], [[0, 0, 0, 0], [0, 0, 0, 0], [0, 0, 0, 0], [0, 0, 0, 0]]]]"
      ]
     },
     "execution_count": 14,
     "metadata": {},
     "output_type": "execute_result"
    }
   ],
   "source": [
    "x = [t,r,theta,phi]\n",
    "gamma = Christoffel_Sym(g6,x)\n",
    "R = reimann_tensor(gamma,x)\n",
    "x\n",
    "gamma\n",
    "R"
   ]
  },
  {
   "cell_type": "code",
   "execution_count": 15,
   "id": "b132f1d6-8abe-48d5-9044-c5fe7c8e9bfd",
   "metadata": {},
   "outputs": [
    {
     "data": {
      "text/latex": [
       "$\\displaystyle \\left[\\begin{matrix}\\frac{1.0 rq^{2} \\left(- r^{2} + r r_{s} - rq^{2}\\right)}{r^{6}} & 0 & 0 & 0\\\\0 & \\frac{1.0 rq^{2}}{r^{2} \\left(r^{2} - r r_{s} + rq^{2}\\right)} & 0 & 0\\\\0 & 0 & - \\frac{1.0 rq^{2}}{r^{2}} & 0\\\\0 & 0 & 0 & - \\frac{1.0 rq^{2} \\sin^{2}{\\left(\\theta \\right)}}{r^{2}}\\end{matrix}\\right]$"
      ],
      "text/plain": [
       "[[1.0*rq**2*(-r**2 + r*r_s - rq**2)/r**6, 0, 0, 0], [0, 1.0*rq**2/(r**2*(r**2 - r*r_s + rq**2)), 0, 0], [0, 0, -1.0*rq**2/r**2, 0], [0, 0, 0, -1.0*rq**2*sin(theta)**2/r**2]]"
      ]
     },
     "execution_count": 15,
     "metadata": {},
     "output_type": "execute_result"
    }
   ],
   "source": [
    "ricci_t = ricci_tensor(R)\n",
    "ricci_t"
   ]
  },
  {
   "cell_type": "code",
   "execution_count": 16,
   "id": "d9920155-7089-4a5f-84ec-f18dbf142c6b",
   "metadata": {},
   "outputs": [
    {
     "data": {
      "text/latex": [
       "$\\displaystyle \\frac{rq^{2} \\left(1.0 c^{2} r^{2} \\left(r - r_{s}\\right)^{2} - 2.0 c^{2} r \\left(r - r_{s}\\right) \\left(r^{2} - r r_{s} + rq^{2}\\right) + 1.0 \\left(r^{2} - r r_{s} + rq^{2}\\right)^{2}\\right)}{c^{2} r^{5} \\left(r - r_{s}\\right) \\left(r^{2} - r r_{s} + rq^{2}\\right)}$"
      ],
      "text/plain": [
       "rq**2*(1.0*c**2*r**2*(r - r_s)**2 - 2.0*c**2*r*(r - r_s)*(r**2 - r*r_s + rq**2) + 1.0*(r**2 - r*r_s + rq**2)**2)/(c**2*r**5*(r - r_s)*(r**2 - r*r_s + rq**2))"
      ]
     },
     "execution_count": 16,
     "metadata": {},
     "output_type": "execute_result"
    }
   ],
   "source": [
    "ricci_s = ricci_scalar(ricci_t,g5)\n",
    "ricci_s"
   ]
  },
  {
   "cell_type": "code",
   "execution_count": 24,
   "id": "d0099f4c-8352-4303-a1da-38df30d8f4ab",
   "metadata": {},
   "outputs": [
    {
     "data": {
      "text/latex": [
       "$\\displaystyle - c^{2} r^{4} \\sin^{2}{\\left(\\theta \\right)}$"
      ],
      "text/plain": [
       "-c**2*r**4*sin(theta)**2"
      ]
     },
     "execution_count": 24,
     "metadata": {},
     "output_type": "execute_result"
    }
   ],
   "source": [
    "g5.det()"
   ]
  },
  {
   "cell_type": "code",
   "execution_count": null,
   "id": "2874f6c0-f5cd-4611-bc30-3e2f77538a46",
   "metadata": {},
   "outputs": [],
   "source": []
  }
 ],
 "metadata": {
  "kernelspec": {
   "display_name": "Python 3 (ipykernel)",
   "language": "python",
   "name": "python3"
  },
  "language_info": {
   "codemirror_mode": {
    "name": "ipython",
    "version": 3
   },
   "file_extension": ".py",
   "mimetype": "text/x-python",
   "name": "python",
   "nbconvert_exporter": "python",
   "pygments_lexer": "ipython3",
   "version": "3.12.8"
  }
 },
 "nbformat": 4,
 "nbformat_minor": 5
}
